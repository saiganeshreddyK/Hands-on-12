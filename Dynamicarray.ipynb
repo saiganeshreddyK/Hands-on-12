{
 "cells": [
  {
   "cell_type": "code",
   "execution_count": 6,
   "id": "b5f64370-2d0d-4043-9fb5-faac215c3528",
   "metadata": {},
   "outputs": [
    {
     "name": "stdout",
     "output_type": "stream",
     "text": [
      "Array size: 7\n",
      "Array contents: [10, 17, 23, 45, 15, 77, 24]\n",
      "Element at index 3: 45\n"
     ]
    }
   ],
   "source": [
    "import ctypes\n",
    "\n",
    "class DynamicArray:\n",
    "    def __init__(self):\n",
    "        self._capacity = 1\n",
    "        self._size = 0\n",
    "        self._arr = self._make_array(self._capacity)\n",
    "\n",
    "    def __len__(self):\n",
    "        return self._size\n",
    "\n",
    "    def __getitem__(self, index):\n",
    "        if not 0 <= index < self._size:\n",
    "            raise IndexError(\"Index out of range\")\n",
    "        return self._arr[index]\n",
    "\n",
    "    def __repr__(self):\n",
    "        return '[' + ', '.join(str(self._arr[i]) for i in range(self._size)) + ']'\n",
    "\n",
    "    def _make_array(self, capacity):\n",
    "        return (capacity * ctypes.py_object)()\n",
    "\n",
    "    def _resize(self, new_capacity):\n",
    "        new_arr = self._make_array(new_capacity)\n",
    "        for i in range(self._size):\n",
    "            new_arr[i] = self._arr[i]\n",
    "        self._arr = new_arr\n",
    "        self._capacity = new_capacity\n",
    "\n",
    "    def append(self, element):\n",
    "        if self._size == self._capacity:\n",
    "            self._resize(2 * self._capacity)\n",
    "        self._arr[self._size] = element\n",
    "        self._size += 1\n",
    "\n",
    "# Example \n",
    "arr = DynamicArray()\n",
    "arr.append(10)\n",
    "arr.append(17)\n",
    "arr.append(23)\n",
    "arr.append(45)\n",
    "arr.append(15)\n",
    "arr.append(77)\n",
    "arr.append(24)\n",
    "\n",
    "print(\"Array size:\", len(arr))\n",
    "print(\"Array contents:\", arr)\n",
    "print(\"Element at index 3:\", arr[3])\n"
   ]
  }
 ],
 "metadata": {
  "kernelspec": {
   "display_name": "Python 3 (ipykernel)",
   "language": "python",
   "name": "python3"
  },
  "language_info": {
   "codemirror_mode": {
    "name": "ipython",
    "version": 3
   },
   "file_extension": ".py",
   "mimetype": "text/x-python",
   "name": "python",
   "nbconvert_exporter": "python",
   "pygments_lexer": "ipython3",
   "version": "3.12.1"
  }
 },
 "nbformat": 4,
 "nbformat_minor": 5
}
